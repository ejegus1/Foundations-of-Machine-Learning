{
 "cells": [
  {
   "cell_type": "markdown",
   "metadata": {
    "id": "qfq_UqhjCZUP"
   },
   "source": [
    "# DTSC670: Foundations of Machine Learning Models\n",
    "## Module 2\n",
    "## Assignment 4: Custom Transformer and Transformation Pipeline\n",
    "\n",
    "#### Name: Ejegu Smith\n",
    "\n",
    "Begin by writing your name above.\n",
    "\n",
    "Your task in this assignment is to create a custom transformation pipeline that takes in raw data and returns fully prepared, clean data that is ready for model training.  However, we will not actually train any models in this assignment.  This pipeline will employ an imputer class, a user-defined transformer class, and a data-normalization class.\n",
    "\n",
    "Please note that the order of features in the final feature matrix must be correct.  See the below figure that illustrates the input and output of the transformation pipeline.  The positions of features $x_1$ and $x_2$ do not change - they remain in the first and second columns, respectvely, both before and after the transformation pipeline.  In the transformed dataset, the $x_5$ feature is next, and is followed by the newly computed feature $x_6$.  Finally, the last two columns are the remaining one-hot vectors obtained from encoding the categorical feature $x_3$.\n",
    "\n",
    "<img src=\"DataTransformation.png \" width =\"500\" />"
   ]
  },
  {
   "cell_type": "markdown",
   "metadata": {
    "id": "ZvoMHxv6CZUR"
   },
   "source": [
    "# Import Data\n",
    "\n",
    "Import data from the file called `CustomTransformerData.csv`."
   ]
  },
  {
   "cell_type": "code",
   "execution_count": 1,
   "metadata": {
    "id": "w9WJuw4xCZUS"
   },
   "outputs": [
    {
     "data": {
      "text/html": [
       "<div>\n",
       "<style scoped>\n",
       "    .dataframe tbody tr th:only-of-type {\n",
       "        vertical-align: middle;\n",
       "    }\n",
       "\n",
       "    .dataframe tbody tr th {\n",
       "        vertical-align: top;\n",
       "    }\n",
       "\n",
       "    .dataframe thead th {\n",
       "        text-align: right;\n",
       "    }\n",
       "</style>\n",
       "<table border=\"1\" class=\"dataframe\">\n",
       "  <thead>\n",
       "    <tr style=\"text-align: right;\">\n",
       "      <th></th>\n",
       "      <th>x1</th>\n",
       "      <th>x2</th>\n",
       "      <th>x3</th>\n",
       "      <th>x4</th>\n",
       "      <th>x5</th>\n",
       "    </tr>\n",
       "  </thead>\n",
       "  <tbody>\n",
       "    <tr>\n",
       "      <th>0</th>\n",
       "      <td>1.5</td>\n",
       "      <td>2.354153</td>\n",
       "      <td>COLD</td>\n",
       "      <td>593</td>\n",
       "      <td>0.750000</td>\n",
       "    </tr>\n",
       "    <tr>\n",
       "      <th>1</th>\n",
       "      <td>2.5</td>\n",
       "      <td>3.314048</td>\n",
       "      <td>WARM</td>\n",
       "      <td>340</td>\n",
       "      <td>2.083333</td>\n",
       "    </tr>\n",
       "    <tr>\n",
       "      <th>2</th>\n",
       "      <td>3.5</td>\n",
       "      <td>4.021604</td>\n",
       "      <td>COLD</td>\n",
       "      <td>551</td>\n",
       "      <td>4.083333</td>\n",
       "    </tr>\n",
       "    <tr>\n",
       "      <th>3</th>\n",
       "      <td>4.5</td>\n",
       "      <td>NaN</td>\n",
       "      <td>COLD</td>\n",
       "      <td>2368</td>\n",
       "      <td>6.750000</td>\n",
       "    </tr>\n",
       "    <tr>\n",
       "      <th>4</th>\n",
       "      <td>5.5</td>\n",
       "      <td>5.847601</td>\n",
       "      <td>WARM</td>\n",
       "      <td>2636</td>\n",
       "      <td>10.083333</td>\n",
       "    </tr>\n",
       "    <tr>\n",
       "      <th>5</th>\n",
       "      <td>6.5</td>\n",
       "      <td>7.229910</td>\n",
       "      <td>WARM</td>\n",
       "      <td>2779</td>\n",
       "      <td>14.083333</td>\n",
       "    </tr>\n",
       "    <tr>\n",
       "      <th>6</th>\n",
       "      <td>7.5</td>\n",
       "      <td>7.997255</td>\n",
       "      <td>HOT</td>\n",
       "      <td>1057</td>\n",
       "      <td>18.750000</td>\n",
       "    </tr>\n",
       "    <tr>\n",
       "      <th>7</th>\n",
       "      <td>8.5</td>\n",
       "      <td>9.203947</td>\n",
       "      <td>COLD</td>\n",
       "      <td>819</td>\n",
       "      <td>24.083333</td>\n",
       "    </tr>\n",
       "    <tr>\n",
       "      <th>8</th>\n",
       "      <td>9.5</td>\n",
       "      <td>10.335348</td>\n",
       "      <td>WARM</td>\n",
       "      <td>3349</td>\n",
       "      <td>NaN</td>\n",
       "    </tr>\n",
       "    <tr>\n",
       "      <th>9</th>\n",
       "      <td>10.5</td>\n",
       "      <td>11.112142</td>\n",
       "      <td>HOT</td>\n",
       "      <td>3235</td>\n",
       "      <td>36.750000</td>\n",
       "    </tr>\n",
       "    <tr>\n",
       "      <th>10</th>\n",
       "      <td>11.5</td>\n",
       "      <td>11.759611</td>\n",
       "      <td>WARM</td>\n",
       "      <td>216</td>\n",
       "      <td>44.083333</td>\n",
       "    </tr>\n",
       "    <tr>\n",
       "      <th>11</th>\n",
       "      <td>12.5</td>\n",
       "      <td>12.629096</td>\n",
       "      <td>WARM</td>\n",
       "      <td>2529</td>\n",
       "      <td>52.083333</td>\n",
       "    </tr>\n",
       "    <tr>\n",
       "      <th>12</th>\n",
       "      <td>13.5</td>\n",
       "      <td>14.082589</td>\n",
       "      <td>COLD</td>\n",
       "      <td>1735</td>\n",
       "      <td>60.750000</td>\n",
       "    </tr>\n",
       "    <tr>\n",
       "      <th>13</th>\n",
       "      <td>14.5</td>\n",
       "      <td>14.657678</td>\n",
       "      <td>HOT</td>\n",
       "      <td>1254</td>\n",
       "      <td>70.083333</td>\n",
       "    </tr>\n",
       "    <tr>\n",
       "      <th>14</th>\n",
       "      <td>15.5</td>\n",
       "      <td>NaN</td>\n",
       "      <td>HOT</td>\n",
       "      <td>1245</td>\n",
       "      <td>80.083333</td>\n",
       "    </tr>\n",
       "    <tr>\n",
       "      <th>15</th>\n",
       "      <td>16.5</td>\n",
       "      <td>17.184114</td>\n",
       "      <td>WARM</td>\n",
       "      <td>310</td>\n",
       "      <td>90.750000</td>\n",
       "    </tr>\n",
       "    <tr>\n",
       "      <th>16</th>\n",
       "      <td>17.5</td>\n",
       "      <td>17.800776</td>\n",
       "      <td>HOT</td>\n",
       "      <td>201</td>\n",
       "      <td>102.083333</td>\n",
       "    </tr>\n",
       "    <tr>\n",
       "      <th>17</th>\n",
       "      <td>18.5</td>\n",
       "      <td>18.578861</td>\n",
       "      <td>HOT</td>\n",
       "      <td>1767</td>\n",
       "      <td>114.083333</td>\n",
       "    </tr>\n",
       "  </tbody>\n",
       "</table>\n",
       "</div>"
      ],
      "text/plain": [
       "      x1         x2    x3    x4          x5\n",
       "0    1.5   2.354153  COLD   593    0.750000\n",
       "1    2.5   3.314048  WARM   340    2.083333\n",
       "2    3.5   4.021604  COLD   551    4.083333\n",
       "3    4.5        NaN  COLD  2368    6.750000\n",
       "4    5.5   5.847601  WARM  2636   10.083333\n",
       "5    6.5   7.229910  WARM  2779   14.083333\n",
       "6    7.5   7.997255   HOT  1057   18.750000\n",
       "7    8.5   9.203947  COLD   819   24.083333\n",
       "8    9.5  10.335348  WARM  3349         NaN\n",
       "9   10.5  11.112142   HOT  3235   36.750000\n",
       "10  11.5  11.759611  WARM   216   44.083333\n",
       "11  12.5  12.629096  WARM  2529   52.083333\n",
       "12  13.5  14.082589  COLD  1735   60.750000\n",
       "13  14.5  14.657678   HOT  1254   70.083333\n",
       "14  15.5        NaN   HOT  1245   80.083333\n",
       "15  16.5  17.184114  WARM   310   90.750000\n",
       "16  17.5  17.800776   HOT   201  102.083333\n",
       "17  18.5  18.578861   HOT  1767  114.083333"
      ]
     },
     "execution_count": 1,
     "metadata": {},
     "output_type": "execute_result"
    }
   ],
   "source": [
    "import pandas as pd\n",
    "fileName = 'CustomTransformerData.csv'\n",
    "df = pd.read_csv(fileName)\n",
    "df"
   ]
  },
  {
   "cell_type": "markdown",
   "metadata": {
    "id": "bzAXx3AmCZUS"
   },
   "source": [
    "# Create Custom Transformer\n",
    "\n",
    "Create a custom transformer, just as we did in the lecture video entitled \"Custom Transformers\", that performs two computations: \n",
    "\n",
    "1. Adds an attribute to the end of the data (i.e. new last column) that is equal to $\\frac{x_1^3}{x_5}$ for each observation\n",
    "\n",
    "2. Drops the entire $x_4$ feature column.  (See further instructions below.)\n",
    "\n",
    "You must name your custom transformer class `Assignment4Transformer`. Your class should include an input parameter with a default value of `True` that deletes the $x_4$ feature column when its value is `True`, but preserves the $x_4$ feature column when its value is `False`.\n",
    "\n",
    "This transformer will be used in a pipeline. In that pipeline, an imputer will be run *before* this transformer. Keep in mind that the imputer will output an array, so **this transformer must be written to accept an array.**\n",
    "\n",
    "Additionally, this transformer will ONLY be given the numerical features of the data. The categorical feature will be handled elsewhere in the full pipeline. This means that your code for this transformer **must reflect the absence of the categorical $x_3$ column** when indexing data structures."
   ]
  },
  {
   "cell_type": "code",
   "execution_count": 78,
   "metadata": {},
   "outputs": [],
   "source": [
    "from sklearn.base import BaseEstimator, TransformerMixin\n",
    "\n",
    "# column index\n",
    "x1, x2, x3, x4, x5  = 0, 1, 2, 3, 4\n",
    "\n",
    "\n",
    "class Assignment4Transformer(BaseEstimator, TransformerMixin):\n",
    "    def __init__(self, drop_x4=True, y=None):  # no *args or **kargs\n",
    "        self.drop_x4 = drop_x4\n",
    "        \n",
    "    def fit(self, df, y=None):\n",
    "        return self   # nothing else to do\n",
    "    \n",
    "    def transform(self, df):\n",
    "        last_col = df[:, 0]**3 / df[:, 3]\n",
    "\n",
    "        if self.drop_x4:\n",
    "            df = np.delete(df,3, axis=1)\n",
    "            \n",
    "        return np.c_[df, last_col]"
   ]
  },
  {
   "cell_type": "code",
   "execution_count": 79,
   "metadata": {},
   "outputs": [
    {
     "name": "stdout",
     "output_type": "stream",
     "text": [
      "<class 'pandas.core.frame.DataFrame'>\n",
      "RangeIndex: 18 entries, 0 to 17\n",
      "Data columns (total 5 columns):\n",
      " #   Column  Non-Null Count  Dtype  \n",
      "---  ------  --------------  -----  \n",
      " 0   x1      18 non-null     float64\n",
      " 1   x2      16 non-null     float64\n",
      " 2   x3      18 non-null     object \n",
      " 3   x4      18 non-null     int64  \n",
      " 4   x5      17 non-null     float64\n",
      "dtypes: float64(3), int64(1), object(1)\n",
      "memory usage: 848.0+ bytes\n"
     ]
    }
   ],
   "source": [
    "df.info()"
   ]
  },
  {
   "cell_type": "code",
   "execution_count": null,
   "metadata": {},
   "outputs": [],
   "source": [
    "#dropping column x4\n",
    "# creating dummy variables for column x3\n",
    "#Assignment4Transformer = make_column_transformer(\n",
    "           # ['drop', 'x4'],\n",
    "           # ['ohe', 'x3'],\n",
    "             # col_div, ['x3', 'x5'])"
   ]
  },
  {
   "cell_type": "markdown",
   "metadata": {
    "id": "5yMluWQYCZUT"
   },
   "source": [
    "# Create Transformation Pipeline for Numerical Features\n",
    "\n",
    "Create a custom transformation pipeline for numeric data only called `num_pipeline` that:\n",
    "\n",
    "1. Applies the `SimpleImputer` class to the data, where the strategy is set to `mean`.\n",
    "\n",
    "2. Applies the custom `Assignment4Transformer` class to the data.\n",
    "\n",
    "3. Applies the `StandardScaler` class to the data."
   ]
  },
  {
   "cell_type": "code",
   "execution_count": 80,
   "metadata": {
    "id": "OzVN4xJ-CZUT"
   },
   "outputs": [],
   "source": [
    "from sklearn.impute import SimpleImputer\n",
    "from sklearn.pipeline import Pipeline\n",
    "from sklearn.preprocessing import StandardScaler\n",
    "\n",
    "imputer = SimpleImputer(strategy = 'median')\n",
    "standard_scaler = StandardScaler()\n"
   ]
  },
  {
   "cell_type": "code",
   "execution_count": 81,
   "metadata": {},
   "outputs": [],
   "source": [
    "num_pipeline = Pipeline([\n",
    "                     ('imputer', imputer),  # first fill in the missing values w/ the median value\n",
    "                      ('Assignment4Transformer', Assignment4Transformer()), # then define those combined attributes and add them to the data set \n",
    "                      ('std_scaler', standard_scaler)    # then standardize the data\n",
    "])"
   ]
  },
  {
   "cell_type": "markdown",
   "metadata": {
    "id": "DRQDfs4xCZUU"
   },
   "source": [
    "# Create Numeric and Categorical DataFrames\n",
    "\n",
    "Create two new data frames.  Create one DataFrame called `data_num` that holds the numeric features.  Create another DataFrame called `data_cat` that holds the categorical features."
   ]
  },
  {
   "cell_type": "code",
   "execution_count": 82,
   "metadata": {},
   "outputs": [],
   "source": [
    "data_cat = df[['x3']]\n",
    "data_num = df.drop('x3', axis=1)"
   ]
  },
  {
   "cell_type": "code",
   "execution_count": 83,
   "metadata": {},
   "outputs": [
    {
     "data": {
      "text/html": [
       "<div>\n",
       "<style scoped>\n",
       "    .dataframe tbody tr th:only-of-type {\n",
       "        vertical-align: middle;\n",
       "    }\n",
       "\n",
       "    .dataframe tbody tr th {\n",
       "        vertical-align: top;\n",
       "    }\n",
       "\n",
       "    .dataframe thead th {\n",
       "        text-align: right;\n",
       "    }\n",
       "</style>\n",
       "<table border=\"1\" class=\"dataframe\">\n",
       "  <thead>\n",
       "    <tr style=\"text-align: right;\">\n",
       "      <th></th>\n",
       "      <th>x3</th>\n",
       "    </tr>\n",
       "  </thead>\n",
       "  <tbody>\n",
       "    <tr>\n",
       "      <th>0</th>\n",
       "      <td>COLD</td>\n",
       "    </tr>\n",
       "    <tr>\n",
       "      <th>1</th>\n",
       "      <td>WARM</td>\n",
       "    </tr>\n",
       "    <tr>\n",
       "      <th>2</th>\n",
       "      <td>COLD</td>\n",
       "    </tr>\n",
       "    <tr>\n",
       "      <th>3</th>\n",
       "      <td>COLD</td>\n",
       "    </tr>\n",
       "    <tr>\n",
       "      <th>4</th>\n",
       "      <td>WARM</td>\n",
       "    </tr>\n",
       "  </tbody>\n",
       "</table>\n",
       "</div>"
      ],
      "text/plain": [
       "     x3\n",
       "0  COLD\n",
       "1  WARM\n",
       "2  COLD\n",
       "3  COLD\n",
       "4  WARM"
      ]
     },
     "execution_count": 83,
     "metadata": {},
     "output_type": "execute_result"
    }
   ],
   "source": [
    "data_cat.head() # looking at data"
   ]
  },
  {
   "cell_type": "code",
   "execution_count": 84,
   "metadata": {},
   "outputs": [
    {
     "data": {
      "text/html": [
       "<div>\n",
       "<style scoped>\n",
       "    .dataframe tbody tr th:only-of-type {\n",
       "        vertical-align: middle;\n",
       "    }\n",
       "\n",
       "    .dataframe tbody tr th {\n",
       "        vertical-align: top;\n",
       "    }\n",
       "\n",
       "    .dataframe thead th {\n",
       "        text-align: right;\n",
       "    }\n",
       "</style>\n",
       "<table border=\"1\" class=\"dataframe\">\n",
       "  <thead>\n",
       "    <tr style=\"text-align: right;\">\n",
       "      <th></th>\n",
       "      <th>x1</th>\n",
       "      <th>x2</th>\n",
       "      <th>x4</th>\n",
       "      <th>x5</th>\n",
       "    </tr>\n",
       "  </thead>\n",
       "  <tbody>\n",
       "    <tr>\n",
       "      <th>0</th>\n",
       "      <td>1.5</td>\n",
       "      <td>2.354153</td>\n",
       "      <td>593</td>\n",
       "      <td>0.750000</td>\n",
       "    </tr>\n",
       "    <tr>\n",
       "      <th>1</th>\n",
       "      <td>2.5</td>\n",
       "      <td>3.314048</td>\n",
       "      <td>340</td>\n",
       "      <td>2.083333</td>\n",
       "    </tr>\n",
       "    <tr>\n",
       "      <th>2</th>\n",
       "      <td>3.5</td>\n",
       "      <td>4.021604</td>\n",
       "      <td>551</td>\n",
       "      <td>4.083333</td>\n",
       "    </tr>\n",
       "    <tr>\n",
       "      <th>3</th>\n",
       "      <td>4.5</td>\n",
       "      <td>NaN</td>\n",
       "      <td>2368</td>\n",
       "      <td>6.750000</td>\n",
       "    </tr>\n",
       "    <tr>\n",
       "      <th>4</th>\n",
       "      <td>5.5</td>\n",
       "      <td>5.847601</td>\n",
       "      <td>2636</td>\n",
       "      <td>10.083333</td>\n",
       "    </tr>\n",
       "  </tbody>\n",
       "</table>\n",
       "</div>"
      ],
      "text/plain": [
       "    x1        x2    x4         x5\n",
       "0  1.5  2.354153   593   0.750000\n",
       "1  2.5  3.314048   340   2.083333\n",
       "2  3.5  4.021604   551   4.083333\n",
       "3  4.5       NaN  2368   6.750000\n",
       "4  5.5  5.847601  2636  10.083333"
      ]
     },
     "execution_count": 84,
     "metadata": {},
     "output_type": "execute_result"
    }
   ],
   "source": [
    "data_num.head()  # looking at data"
   ]
  },
  {
   "cell_type": "markdown",
   "metadata": {
    "id": "Q6rj8eO8CZUU"
   },
   "source": [
    "# Quick Testing\n",
    "\n",
    "The full pipeline will be implemented with a `ColumnTransformer` class.  However, to be sure that our numeric pipeline is working properly, lets invoke the `fit_transform()` method of the `num_pipeline` object.  Then, take a look at the transformed data to be sure all is well.\n",
    "\n",
    "### Run Pipeline and Create Transformed Numeric Data"
   ]
  },
  {
   "cell_type": "code",
   "execution_count": 91,
   "metadata": {
    "id": "EtGdsT8MCZUV"
   },
   "outputs": [
    {
     "data": {
      "text/plain": [
       "array([[-1.63835604, -1.73408102, -0.86175475, -1.61238454],\n",
       "       [-1.44560827, -1.53051168, -1.10236978, -1.42053125],\n",
       "       [-1.2528605 , -1.38045683, -0.90169875, -1.22867796],\n",
       "       [-1.06011273,  0.04089724,  0.82635465, -1.03682467],\n",
       "       [-0.86736496, -0.99320925,  1.08123539, -0.84497138],\n",
       "       [-0.67461719, -0.70005654,  1.21723519, -0.6531181 ],\n",
       "       [-0.48186942, -0.53732208, -0.42046869, -0.46126481],\n",
       "       [-0.28912165, -0.28141344, -0.64681801, -0.26941152],\n",
       "       [-0.09637388, -0.04147194,  1.7593323 , -0.40818975],\n",
       "       [ 0.09637388,  0.12326643,  1.65091288,  0.11429506],\n",
       "       [ 0.28912165,  0.26057817, -1.22029968,  0.30614835],\n",
       "       [ 0.48186942,  0.44497389,  0.97947331,  0.49800164],\n",
       "       [ 0.67461719,  0.75322293,  0.22434155,  0.68985493],\n",
       "       [ 0.86736496,  0.87518476, -0.23311232,  0.88170822],\n",
       "       [ 1.06011273,  0.04089724, -0.24167175,  1.07356151],\n",
       "       [ 1.2528605 ,  1.41097779, -1.13090121,  1.2654148 ],\n",
       "       [ 1.44560827,  1.54175607, -1.23456539,  1.45726809],\n",
       "       [ 1.63835604,  1.70676827,  0.25477507,  1.64912138]])"
      ]
     },
     "execution_count": 91,
     "metadata": {},
     "output_type": "execute_result"
    }
   ],
   "source": [
    "from sklearn.compose import ColumnTransformer\n",
    "import numpy as np\n",
    "\n",
    "data_num_fit_transformed = num_pipeline.fit_transform(data_num)\n",
    "data_num_fit_transformed"
   ]
  },
  {
   "cell_type": "markdown",
   "metadata": {
    "id": "U5-mJeXnCZUV"
   },
   "source": [
    "### One-Hot Encode Categorical Features\n",
    "\n",
    "Similarly, you will employ a `OneHotEncoder` class in the `ColumnTransformer` below to construct the final full pipeline.  However, let's instantiate an object of the `OneHotEncoder` class called `cat_encoder` that has the `drop` parameter set to `first`.  Next, call the `fit_transform()` method and pass it your categorical data.  Take a look at the transformed one-hot vectors to be sure all is well."
   ]
  },
  {
   "cell_type": "code",
   "execution_count": 92,
   "metadata": {
    "id": "ouqsgjpDCZUV"
   },
   "outputs": [],
   "source": [
    "from sklearn.preprocessing import OneHotEncoder\n",
    "\n",
    "cat_encoder = OneHotEncoder(drop='first')"
   ]
  },
  {
   "cell_type": "code",
   "execution_count": 93,
   "metadata": {},
   "outputs": [],
   "source": [
    "oneHot_cat = cat_encoder.fit_transform(data_cat) "
   ]
  },
  {
   "cell_type": "code",
   "execution_count": 94,
   "metadata": {},
   "outputs": [
    {
     "data": {
      "text/plain": [
       "array([[0., 0.],\n",
       "       [0., 1.],\n",
       "       [0., 0.],\n",
       "       [0., 0.],\n",
       "       [0., 1.],\n",
       "       [0., 1.],\n",
       "       [1., 0.],\n",
       "       [0., 0.],\n",
       "       [0., 1.],\n",
       "       [1., 0.],\n",
       "       [0., 1.],\n",
       "       [0., 1.],\n",
       "       [0., 0.],\n",
       "       [1., 0.],\n",
       "       [1., 0.],\n",
       "       [0., 1.],\n",
       "       [1., 0.],\n",
       "       [1., 0.]])"
      ]
     },
     "execution_count": 94,
     "metadata": {},
     "output_type": "execute_result"
    }
   ],
   "source": [
    "oneHot_cat.toarray() #checking"
   ]
  },
  {
   "cell_type": "code",
   "execution_count": 95,
   "metadata": {},
   "outputs": [
    {
     "data": {
      "text/plain": [
       "[array(['COLD', 'HOT', 'WARM'], dtype=object)]"
      ]
     },
     "execution_count": 95,
     "metadata": {},
     "output_type": "execute_result"
    }
   ],
   "source": [
    "cat_encoder.categories_  #checking"
   ]
  },
  {
   "cell_type": "markdown",
   "metadata": {
    "id": "jZy5_wm4CZUW"
   },
   "source": [
    "# Put it All Together with a Column Transformer\n",
    "\n",
    "Now, we are finally ready to construct the full transformation pipeline called `full_pipeline` that will transform our raw data into clean, ready-to-train data.  Construct this ColumnTransformer below, then call the `fit_transform()` method to obtain the final, clean data.  Save this output data into a variable called `data_trans`."
   ]
  },
  {
   "cell_type": "code",
   "execution_count": 105,
   "metadata": {},
   "outputs": [],
   "source": [
    "num_attribs = list(data_num)\n",
    "cat_attribs = [\"x3\"]"
   ]
  },
  {
   "cell_type": "code",
   "execution_count": 106,
   "metadata": {},
   "outputs": [],
   "source": [
    "full_pipeline = ColumnTransformer([(\"num\", num_pipeline, num_attribs ), \n",
    "                                   (\"cat\", cat_encoder, cat_attribs )])           "
   ]
  },
  {
   "cell_type": "code",
   "execution_count": 107,
   "metadata": {
    "id": "HhutoLeaCZUW"
   },
   "outputs": [
    {
     "name": "stderr",
     "output_type": "stream",
     "text": [
      "/opt/anaconda3/lib/python3.8/site-packages/sklearn/base.py:209: FutureWarning: From version 0.24, get_params will raise an AttributeError if a parameter cannot be retrieved as an instance attribute. Previously it would return None.\n",
      "  warnings.warn('From version 0.24, get_params will raise an '\n"
     ]
    },
    {
     "data": {
      "text/plain": [
       "array([[-1.63835604, -1.73408102, -0.86175475, -1.61238454,  0.        ,\n",
       "         0.        ],\n",
       "       [-1.44560827, -1.53051168, -1.10236978, -1.42053125,  0.        ,\n",
       "         1.        ],\n",
       "       [-1.2528605 , -1.38045683, -0.90169875, -1.22867796,  0.        ,\n",
       "         0.        ],\n",
       "       [-1.06011273,  0.04089724,  0.82635465, -1.03682467,  0.        ,\n",
       "         0.        ],\n",
       "       [-0.86736496, -0.99320925,  1.08123539, -0.84497138,  0.        ,\n",
       "         1.        ],\n",
       "       [-0.67461719, -0.70005654,  1.21723519, -0.6531181 ,  0.        ,\n",
       "         1.        ],\n",
       "       [-0.48186942, -0.53732208, -0.42046869, -0.46126481,  1.        ,\n",
       "         0.        ],\n",
       "       [-0.28912165, -0.28141344, -0.64681801, -0.26941152,  0.        ,\n",
       "         0.        ],\n",
       "       [-0.09637388, -0.04147194,  1.7593323 , -0.40818975,  0.        ,\n",
       "         1.        ],\n",
       "       [ 0.09637388,  0.12326643,  1.65091288,  0.11429506,  1.        ,\n",
       "         0.        ],\n",
       "       [ 0.28912165,  0.26057817, -1.22029968,  0.30614835,  0.        ,\n",
       "         1.        ],\n",
       "       [ 0.48186942,  0.44497389,  0.97947331,  0.49800164,  0.        ,\n",
       "         1.        ],\n",
       "       [ 0.67461719,  0.75322293,  0.22434155,  0.68985493,  0.        ,\n",
       "         0.        ],\n",
       "       [ 0.86736496,  0.87518476, -0.23311232,  0.88170822,  1.        ,\n",
       "         0.        ],\n",
       "       [ 1.06011273,  0.04089724, -0.24167175,  1.07356151,  1.        ,\n",
       "         0.        ],\n",
       "       [ 1.2528605 ,  1.41097779, -1.13090121,  1.2654148 ,  0.        ,\n",
       "         1.        ],\n",
       "       [ 1.44560827,  1.54175607, -1.23456539,  1.45726809,  1.        ,\n",
       "         0.        ],\n",
       "       [ 1.63835604,  1.70676827,  0.25477507,  1.64912138,  1.        ,\n",
       "         0.        ]])"
      ]
     },
     "execution_count": 107,
     "metadata": {},
     "output_type": "execute_result"
    }
   ],
   "source": [
    "data_trans = full_pipeline.fit_transform(df)\n",
    "data_trans"
   ]
  },
  {
   "cell_type": "code",
   "execution_count": 108,
   "metadata": {},
   "outputs": [
    {
     "data": {
      "text/html": [
       "<div>\n",
       "<style scoped>\n",
       "    .dataframe tbody tr th:only-of-type {\n",
       "        vertical-align: middle;\n",
       "    }\n",
       "\n",
       "    .dataframe tbody tr th {\n",
       "        vertical-align: top;\n",
       "    }\n",
       "\n",
       "    .dataframe thead th {\n",
       "        text-align: right;\n",
       "    }\n",
       "</style>\n",
       "<table border=\"1\" class=\"dataframe\">\n",
       "  <thead>\n",
       "    <tr style=\"text-align: right;\">\n",
       "      <th></th>\n",
       "      <th>0</th>\n",
       "      <th>1</th>\n",
       "      <th>2</th>\n",
       "      <th>3</th>\n",
       "      <th>4</th>\n",
       "      <th>5</th>\n",
       "    </tr>\n",
       "  </thead>\n",
       "  <tbody>\n",
       "    <tr>\n",
       "      <th>0</th>\n",
       "      <td>-1.638356</td>\n",
       "      <td>-1.734081</td>\n",
       "      <td>-0.861755</td>\n",
       "      <td>-1.612385</td>\n",
       "      <td>0.0</td>\n",
       "      <td>0.0</td>\n",
       "    </tr>\n",
       "    <tr>\n",
       "      <th>1</th>\n",
       "      <td>-1.445608</td>\n",
       "      <td>-1.530512</td>\n",
       "      <td>-1.102370</td>\n",
       "      <td>-1.420531</td>\n",
       "      <td>0.0</td>\n",
       "      <td>1.0</td>\n",
       "    </tr>\n",
       "    <tr>\n",
       "      <th>2</th>\n",
       "      <td>-1.252861</td>\n",
       "      <td>-1.380457</td>\n",
       "      <td>-0.901699</td>\n",
       "      <td>-1.228678</td>\n",
       "      <td>0.0</td>\n",
       "      <td>0.0</td>\n",
       "    </tr>\n",
       "    <tr>\n",
       "      <th>3</th>\n",
       "      <td>-1.060113</td>\n",
       "      <td>0.040897</td>\n",
       "      <td>0.826355</td>\n",
       "      <td>-1.036825</td>\n",
       "      <td>0.0</td>\n",
       "      <td>0.0</td>\n",
       "    </tr>\n",
       "    <tr>\n",
       "      <th>4</th>\n",
       "      <td>-0.867365</td>\n",
       "      <td>-0.993209</td>\n",
       "      <td>1.081235</td>\n",
       "      <td>-0.844971</td>\n",
       "      <td>0.0</td>\n",
       "      <td>1.0</td>\n",
       "    </tr>\n",
       "    <tr>\n",
       "      <th>5</th>\n",
       "      <td>-0.674617</td>\n",
       "      <td>-0.700057</td>\n",
       "      <td>1.217235</td>\n",
       "      <td>-0.653118</td>\n",
       "      <td>0.0</td>\n",
       "      <td>1.0</td>\n",
       "    </tr>\n",
       "    <tr>\n",
       "      <th>6</th>\n",
       "      <td>-0.481869</td>\n",
       "      <td>-0.537322</td>\n",
       "      <td>-0.420469</td>\n",
       "      <td>-0.461265</td>\n",
       "      <td>1.0</td>\n",
       "      <td>0.0</td>\n",
       "    </tr>\n",
       "    <tr>\n",
       "      <th>7</th>\n",
       "      <td>-0.289122</td>\n",
       "      <td>-0.281413</td>\n",
       "      <td>-0.646818</td>\n",
       "      <td>-0.269412</td>\n",
       "      <td>0.0</td>\n",
       "      <td>0.0</td>\n",
       "    </tr>\n",
       "    <tr>\n",
       "      <th>8</th>\n",
       "      <td>-0.096374</td>\n",
       "      <td>-0.041472</td>\n",
       "      <td>1.759332</td>\n",
       "      <td>-0.408190</td>\n",
       "      <td>0.0</td>\n",
       "      <td>1.0</td>\n",
       "    </tr>\n",
       "    <tr>\n",
       "      <th>9</th>\n",
       "      <td>0.096374</td>\n",
       "      <td>0.123266</td>\n",
       "      <td>1.650913</td>\n",
       "      <td>0.114295</td>\n",
       "      <td>1.0</td>\n",
       "      <td>0.0</td>\n",
       "    </tr>\n",
       "    <tr>\n",
       "      <th>10</th>\n",
       "      <td>0.289122</td>\n",
       "      <td>0.260578</td>\n",
       "      <td>-1.220300</td>\n",
       "      <td>0.306148</td>\n",
       "      <td>0.0</td>\n",
       "      <td>1.0</td>\n",
       "    </tr>\n",
       "    <tr>\n",
       "      <th>11</th>\n",
       "      <td>0.481869</td>\n",
       "      <td>0.444974</td>\n",
       "      <td>0.979473</td>\n",
       "      <td>0.498002</td>\n",
       "      <td>0.0</td>\n",
       "      <td>1.0</td>\n",
       "    </tr>\n",
       "    <tr>\n",
       "      <th>12</th>\n",
       "      <td>0.674617</td>\n",
       "      <td>0.753223</td>\n",
       "      <td>0.224342</td>\n",
       "      <td>0.689855</td>\n",
       "      <td>0.0</td>\n",
       "      <td>0.0</td>\n",
       "    </tr>\n",
       "    <tr>\n",
       "      <th>13</th>\n",
       "      <td>0.867365</td>\n",
       "      <td>0.875185</td>\n",
       "      <td>-0.233112</td>\n",
       "      <td>0.881708</td>\n",
       "      <td>1.0</td>\n",
       "      <td>0.0</td>\n",
       "    </tr>\n",
       "    <tr>\n",
       "      <th>14</th>\n",
       "      <td>1.060113</td>\n",
       "      <td>0.040897</td>\n",
       "      <td>-0.241672</td>\n",
       "      <td>1.073562</td>\n",
       "      <td>1.0</td>\n",
       "      <td>0.0</td>\n",
       "    </tr>\n",
       "    <tr>\n",
       "      <th>15</th>\n",
       "      <td>1.252861</td>\n",
       "      <td>1.410978</td>\n",
       "      <td>-1.130901</td>\n",
       "      <td>1.265415</td>\n",
       "      <td>0.0</td>\n",
       "      <td>1.0</td>\n",
       "    </tr>\n",
       "    <tr>\n",
       "      <th>16</th>\n",
       "      <td>1.445608</td>\n",
       "      <td>1.541756</td>\n",
       "      <td>-1.234565</td>\n",
       "      <td>1.457268</td>\n",
       "      <td>1.0</td>\n",
       "      <td>0.0</td>\n",
       "    </tr>\n",
       "    <tr>\n",
       "      <th>17</th>\n",
       "      <td>1.638356</td>\n",
       "      <td>1.706768</td>\n",
       "      <td>0.254775</td>\n",
       "      <td>1.649121</td>\n",
       "      <td>1.0</td>\n",
       "      <td>0.0</td>\n",
       "    </tr>\n",
       "  </tbody>\n",
       "</table>\n",
       "</div>"
      ],
      "text/plain": [
       "           0         1         2         3    4    5\n",
       "0  -1.638356 -1.734081 -0.861755 -1.612385  0.0  0.0\n",
       "1  -1.445608 -1.530512 -1.102370 -1.420531  0.0  1.0\n",
       "2  -1.252861 -1.380457 -0.901699 -1.228678  0.0  0.0\n",
       "3  -1.060113  0.040897  0.826355 -1.036825  0.0  0.0\n",
       "4  -0.867365 -0.993209  1.081235 -0.844971  0.0  1.0\n",
       "5  -0.674617 -0.700057  1.217235 -0.653118  0.0  1.0\n",
       "6  -0.481869 -0.537322 -0.420469 -0.461265  1.0  0.0\n",
       "7  -0.289122 -0.281413 -0.646818 -0.269412  0.0  0.0\n",
       "8  -0.096374 -0.041472  1.759332 -0.408190  0.0  1.0\n",
       "9   0.096374  0.123266  1.650913  0.114295  1.0  0.0\n",
       "10  0.289122  0.260578 -1.220300  0.306148  0.0  1.0\n",
       "11  0.481869  0.444974  0.979473  0.498002  0.0  1.0\n",
       "12  0.674617  0.753223  0.224342  0.689855  0.0  0.0\n",
       "13  0.867365  0.875185 -0.233112  0.881708  1.0  0.0\n",
       "14  1.060113  0.040897 -0.241672  1.073562  1.0  0.0\n",
       "15  1.252861  1.410978 -1.130901  1.265415  0.0  1.0\n",
       "16  1.445608  1.541756 -1.234565  1.457268  1.0  0.0\n",
       "17  1.638356  1.706768  0.254775  1.649121  1.0  0.0"
      ]
     },
     "execution_count": 108,
     "metadata": {},
     "output_type": "execute_result"
    }
   ],
   "source": [
    "data_trans = pd.DataFrame(data_trans) # checking via dataframe\n",
    "data_trans"
   ]
  },
  {
   "cell_type": "markdown",
   "metadata": {
    "id": "p8pHguZbCZUW"
   },
   "source": [
    "# Prepare for Grading\n",
    "\n",
    "Prepare your `data_trans` NumPy array for grading by using the NumPy [around()](https://numpy.org/doc/stable/reference/generated/numpy.around.html) function to round all the values to 2 decimal places - this will return a NumPy array.\n",
    "\n",
    "Please note the final order of the features in your final numpy array, which is given at the top of this document.\n",
    "\n",
    "___You MUST print your final answer, which is the NumPy array discussed above, using the `print()` function!  This MUST be the only `print()` statement in the entire notebook!  Do not print anything else using the print() function in this notebook!___"
   ]
  },
  {
   "cell_type": "code",
   "execution_count": 109,
   "metadata": {
    "id": "Tnva8j5OCZUX"
   },
   "outputs": [
    {
     "name": "stdout",
     "output_type": "stream",
     "text": [
      "       0     1     2     3    4    5\n",
      "0  -1.64 -1.73 -0.86 -1.61  0.0  0.0\n",
      "1  -1.45 -1.53 -1.10 -1.42  0.0  1.0\n",
      "2  -1.25 -1.38 -0.90 -1.23  0.0  0.0\n",
      "3  -1.06  0.04  0.83 -1.04  0.0  0.0\n",
      "4  -0.87 -0.99  1.08 -0.84  0.0  1.0\n",
      "5  -0.67 -0.70  1.22 -0.65  0.0  1.0\n",
      "6  -0.48 -0.54 -0.42 -0.46  1.0  0.0\n",
      "7  -0.29 -0.28 -0.65 -0.27  0.0  0.0\n",
      "8  -0.10 -0.04  1.76 -0.41  0.0  1.0\n",
      "9   0.10  0.12  1.65  0.11  1.0  0.0\n",
      "10  0.29  0.26 -1.22  0.31  0.0  1.0\n",
      "11  0.48  0.44  0.98  0.50  0.0  1.0\n",
      "12  0.67  0.75  0.22  0.69  0.0  0.0\n",
      "13  0.87  0.88 -0.23  0.88  1.0  0.0\n",
      "14  1.06  0.04 -0.24  1.07  1.0  0.0\n",
      "15  1.25  1.41 -1.13  1.27  0.0  1.0\n",
      "16  1.45  1.54 -1.23  1.46  1.0  0.0\n",
      "17  1.64  1.71  0.25  1.65  1.0  0.0\n"
     ]
    }
   ],
   "source": [
    "print(np.around(data_trans,decimals=2))"
   ]
  },
  {
   "cell_type": "code",
   "execution_count": null,
   "metadata": {
    "id": "0qb9tvDxCZUX"
   },
   "outputs": [],
   "source": []
  }
 ],
 "metadata": {
  "colab": {
   "collapsed_sections": [],
   "name": "Copy of Assignment_4.ipynb",
   "provenance": []
  },
  "kernelspec": {
   "display_name": "Python 3",
   "language": "python",
   "name": "python3"
  },
  "language_info": {
   "codemirror_mode": {
    "name": "ipython",
    "version": 3
   },
   "file_extension": ".py",
   "mimetype": "text/x-python",
   "name": "python",
   "nbconvert_exporter": "python",
   "pygments_lexer": "ipython3",
   "version": "3.8.3"
  }
 },
 "nbformat": 4,
 "nbformat_minor": 1
}
